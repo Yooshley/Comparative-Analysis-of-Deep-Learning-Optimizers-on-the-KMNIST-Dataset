{
  "cells": [
    {
      "cell_type": "markdown",
      "id": "a4wHntV1jCw_",
      "metadata": {
        "id": "a4wHntV1jCw_"
      },
      "source": [
        "#### Step 1: Setting Up the Environment (Libraries & Data):"
      ]
    },
    {
      "cell_type": "markdown",
      "id": "pU4X9xagrKPl",
      "metadata": {
        "id": "pU4X9xagrKPl"
      },
      "source": [
        "##### Setting Up Environment:"
      ]
    },
    {
      "cell_type": "code",
      "execution_count": 1,
      "id": "RS4EvGWxjE-l",
      "metadata": {
        "colab": {
          "base_uri": "https://localhost:8080/"
        },
        "id": "RS4EvGWxjE-l",
        "outputId": "e858c5e5-ac88-4190-e43a-ae08a5118a89"
      },
      "outputs": [
        {
          "output_type": "stream",
          "name": "stdout",
          "text": [
            "Using device: cuda\n"
          ]
        }
      ],
      "source": [
        "# Importing core libraries\n",
        "import torch\n",
        "import torch.nn as nn\n",
        "import torch.optim as optim\n",
        "import torchvision\n",
        "from torchvision import datasets, transforms\n",
        "from torch.utils.data import DataLoader, random_split\n",
        "\n",
        "# For visualization and numerical operations\n",
        "import matplotlib.pyplot as plt\n",
        "import pandas as pd\n",
        "import numpy as np\n",
        "import time\n",
        "import copy\n",
        "\n",
        "# Check if GPU is available\n",
        "device = torch.device('cuda' if torch.cuda.is_available() else 'cpu')\n",
        "print(f'Using device: {device}')"
      ]
    },
    {
      "cell_type": "markdown",
      "id": "QJEf-NRNlaWx",
      "metadata": {
        "id": "QJEf-NRNlaWx"
      },
      "source": [
        "##### KMNIST Dataset Loading:"
      ]
    },
    {
      "cell_type": "code",
      "execution_count": 2,
      "id": "phydQBtSleLd",
      "metadata": {
        "colab": {
          "base_uri": "https://localhost:8080/"
        },
        "id": "phydQBtSleLd",
        "outputId": "2ef3287f-076b-45bb-de71-6db2bab53f74"
      },
      "outputs": [
        {
          "output_type": "stream",
          "name": "stderr",
          "text": [
            "100%|██████████| 18.2M/18.2M [00:14<00:00, 1.30MB/s]\n",
            "100%|██████████| 29.5k/29.5k [00:00<00:00, 132kB/s]\n",
            "100%|██████████| 3.04M/3.04M [00:04<00:00, 717kB/s]\n",
            "100%|██████████| 5.12k/5.12k [00:00<00:00, 7.87MB/s]"
          ]
        },
        {
          "output_type": "stream",
          "name": "stdout",
          "text": [
            "Train dataset size: 60000\n",
            "Test dataset size: 10000\n"
          ]
        },
        {
          "output_type": "stream",
          "name": "stderr",
          "text": [
            "\n"
          ]
        }
      ],
      "source": [
        "# Define the transform to normalize the data\n",
        "transform = transforms.Compose([\n",
        "    transforms.ToTensor(),\n",
        "    transforms.Normalize((0.5,), (0.5,))  # Normalize to [-1, 1]\n",
        "])\n",
        "\n",
        "# Download and load training/test data\n",
        "train_dataset = datasets.KMNIST(root='./data', train=True, download=True, transform=transform)\n",
        "test_dataset = datasets.KMNIST(root='./data', train=False, download=True, transform=transform)\n",
        "\n",
        "# Preview dataset size\n",
        "print(f\"Train dataset size: {len(train_dataset)}\")\n",
        "print(f\"Test dataset size: {len(test_dataset)}\")"
      ]
    },
    {
      "cell_type": "markdown",
      "id": "MiqN-nRUmHBC",
      "metadata": {
        "id": "MiqN-nRUmHBC"
      },
      "source": [
        "#### Step 2: Data Preparation (Including 5-Fold Cross-Validation):"
      ]
    },
    {
      "cell_type": "markdown",
      "id": "EIBFBIhsmWeK",
      "metadata": {
        "id": "EIBFBIhsmWeK"
      },
      "source": [
        "##### Code to Prepare 5-Fold Cross-Validation:"
      ]
    },
    {
      "cell_type": "code",
      "execution_count": 3,
      "id": "ehRl_1dFlg5q",
      "metadata": {
        "colab": {
          "base_uri": "https://localhost:8080/"
        },
        "id": "ehRl_1dFlg5q",
        "outputId": "9875e9ff-042e-43c1-97e6-b836e5854b38"
      },
      "outputs": [
        {
          "output_type": "stream",
          "name": "stdout",
          "text": [
            "Fold 1:\n",
            "Train indices: [0 1 2 3 5]...\n",
            "Validation indices: [ 4  6  7 32 34]...\n"
          ]
        }
      ],
      "source": [
        "from torch.utils.data import Subset\n",
        "from sklearn.model_selection import KFold\n",
        "\n",
        "# Number of folds\n",
        "k_folds = 5\n",
        "kfold = KFold(n_splits=k_folds, shuffle=True, random_state=42)\n",
        "\n",
        "# This will give us 5 different train/val splits\n",
        "splits = list(kfold.split(train_dataset))\n",
        "\n",
        "# Displaying one fold split for understanding\n",
        "for fold, (train_idx, val_idx) in enumerate(splits):\n",
        "    print(f\"Fold {fold + 1}:\")\n",
        "    print(f\"Train indices: {train_idx[:5]}...\")\n",
        "    print(f\"Validation indices: {val_idx[:5]}...\")\n",
        "    break  # Just show one fold example"
      ]
    },
    {
      "cell_type": "markdown",
      "id": "6M7VewYEmgzx",
      "metadata": {
        "id": "6M7VewYEmgzx"
      },
      "source": [
        "##### Function to Create Dataloaders for a Given Fold:"
      ]
    },
    {
      "cell_type": "code",
      "execution_count": 4,
      "id": "wFQtPZGLmaUR",
      "metadata": {
        "id": "wFQtPZGLmaUR"
      },
      "outputs": [],
      "source": [
        "def get_dataloaders_for_fold(fold_index, batch_size=64):\n",
        "    train_idx, val_idx = splits[fold_index]\n",
        "\n",
        "    train_subset = Subset(train_dataset, train_idx)\n",
        "    val_subset = Subset(train_dataset, val_idx)\n",
        "\n",
        "    train_loader = DataLoader(train_subset, batch_size=batch_size, shuffle=True)\n",
        "    val_loader = DataLoader(val_subset, batch_size=batch_size, shuffle=False)\n",
        "    test_loader = DataLoader(test_dataset, batch_size=batch_size, shuffle=False)\n",
        "\n",
        "    return train_loader, val_loader, test_loader"
      ]
    },
    {
      "cell_type": "markdown",
      "id": "Jde973LnmfM9",
      "metadata": {
        "id": "Jde973LnmfM9"
      },
      "source": [
        "##### Example Usage for Fold 0:"
      ]
    },
    {
      "cell_type": "code",
      "execution_count": 5,
      "id": "3fr-DaNTmuQ3",
      "metadata": {
        "colab": {
          "base_uri": "https://localhost:8080/"
        },
        "id": "3fr-DaNTmuQ3",
        "outputId": "0821c2b2-5efc-4c98-fb73-12125d35e984"
      },
      "outputs": [
        {
          "output_type": "stream",
          "name": "stdout",
          "text": [
            "Image batch shape: torch.Size([64, 1, 28, 28])\n",
            "Label batch shape: torch.Size([64])\n"
          ]
        }
      ],
      "source": [
        "# Create dataloaders for the first fold\n",
        "train_loader, val_loader, test_loader = get_dataloaders_for_fold(0)\n",
        "\n",
        "# Check a sample batch\n",
        "images, labels = next(iter(train_loader))\n",
        "print(f\"Image batch shape: {images.shape}\")\n",
        "print(f\"Label batch shape: {labels.shape}\")"
      ]
    },
    {
      "cell_type": "markdown",
      "id": "_ddfRF_YqCwZ",
      "metadata": {
        "id": "_ddfRF_YqCwZ"
      },
      "source": [
        "#### Step 3: Define the Neural Network"
      ]
    },
    {
      "cell_type": "markdown",
      "id": "whlcRFIRsW8J",
      "metadata": {
        "id": "whlcRFIRsW8J"
      },
      "source": [
        "##### Model Code:"
      ]
    },
    {
      "cell_type": "code",
      "execution_count": 6,
      "id": "5nDu1GPWmyT2",
      "metadata": {
        "id": "5nDu1GPWmyT2"
      },
      "outputs": [],
      "source": [
        "class FeedforwardNN(nn.Module):\n",
        "    def __init__(self):\n",
        "        super(FeedforwardNN, self).__init__()\n",
        "        self.flatten = nn.Flatten()\n",
        "        self.fc1 = nn.Linear(28*28, 128)\n",
        "        self.relu1 = nn.ReLU()\n",
        "        self.fc2 = nn.Linear(128, 64)\n",
        "        self.relu2 = nn.ReLU()\n",
        "        self.fc3 = nn.Linear(64, 10)  # 10 classes\n",
        "\n",
        "    def forward(self, x):\n",
        "        x = self.flatten(x)\n",
        "        x = self.relu1(self.fc1(x))\n",
        "        x = self.relu2(self.fc2(x))\n",
        "        x = self.fc3(x)  # No softmax here; CrossEntropyLoss handles it\n",
        "        return x"
      ]
    },
    {
      "cell_type": "markdown",
      "id": "mOLrvospsb6F",
      "metadata": {
        "id": "mOLrvospsb6F"
      },
      "source": [
        "##### Instantiating Model and Moving to Device:"
      ]
    },
    {
      "cell_type": "code",
      "execution_count": 7,
      "id": "QMEeQN2vsZi-",
      "metadata": {
        "colab": {
          "base_uri": "https://localhost:8080/"
        },
        "id": "QMEeQN2vsZi-",
        "outputId": "337331f3-401c-404b-f603-7b8803aa2a5d"
      },
      "outputs": [
        {
          "output_type": "stream",
          "name": "stdout",
          "text": [
            "FeedforwardNN(\n",
            "  (flatten): Flatten(start_dim=1, end_dim=-1)\n",
            "  (fc1): Linear(in_features=784, out_features=128, bias=True)\n",
            "  (relu1): ReLU()\n",
            "  (fc2): Linear(in_features=128, out_features=64, bias=True)\n",
            "  (relu2): ReLU()\n",
            "  (fc3): Linear(in_features=64, out_features=10, bias=True)\n",
            ")\n"
          ]
        }
      ],
      "source": [
        "model = FeedforwardNN().to(device)\n",
        "print(model)"
      ]
    },
    {
      "cell_type": "markdown",
      "id": "KGD7iZiMvvYV",
      "metadata": {
        "id": "KGD7iZiMvvYV"
      },
      "source": [
        "#### Step 4: Training and Evaluation Framework:"
      ]
    },
    {
      "cell_type": "markdown",
      "id": "3y5KiriPv5wt",
      "metadata": {
        "id": "3y5KiriPv5wt"
      },
      "source": [
        "#### Defining the Loss Function:"
      ]
    },
    {
      "cell_type": "code",
      "execution_count": 8,
      "id": "wUCUbZI7siR8",
      "metadata": {
        "id": "wUCUbZI7siR8"
      },
      "outputs": [],
      "source": [
        "criterion = nn.CrossEntropyLoss()"
      ]
    },
    {
      "cell_type": "markdown",
      "id": "O7giF4iUwPKQ",
      "metadata": {
        "id": "O7giF4iUwPKQ"
      },
      "source": [
        "##### Defining Accuracy Function:"
      ]
    },
    {
      "cell_type": "code",
      "execution_count": 9,
      "id": "vQSvnownv4kY",
      "metadata": {
        "id": "vQSvnownv4kY"
      },
      "outputs": [],
      "source": [
        "def compute_accuracy(preds, labels):\n",
        "    _, predicted = torch.max(preds, 1)\n",
        "    correct = (predicted == labels).sum().item()\n",
        "    return correct / len(labels)"
      ]
    },
    {
      "cell_type": "markdown",
      "id": "lCQ2oyZEwc7Z",
      "metadata": {
        "id": "lCQ2oyZEwc7Z"
      },
      "source": [
        "##### Training and Validation Loop:"
      ]
    },
    {
      "cell_type": "code",
      "execution_count": 10,
      "id": "EDUuB3wjwWws",
      "metadata": {
        "id": "EDUuB3wjwWws"
      },
      "outputs": [],
      "source": [
        "def train_one_epoch(model, loader, optimizer):\n",
        "    model.train()\n",
        "    running_loss = 0.0\n",
        "    running_corrects = 0\n",
        "    total = 0\n",
        "    for inputs, labels in loader:\n",
        "        inputs, labels = inputs.to(device), labels.to(device)\n",
        "\n",
        "        optimizer.zero_grad()\n",
        "        outputs = model(inputs)\n",
        "        loss = criterion(outputs, labels)\n",
        "        loss.backward()\n",
        "        optimizer.step()\n",
        "\n",
        "        running_loss += loss.item() * inputs.size(0)\n",
        "        running_corrects += (outputs.argmax(1) == labels).sum().item()\n",
        "        total += labels.size(0)\n",
        "\n",
        "    epoch_loss = running_loss / total\n",
        "    epoch_acc = running_corrects / total\n",
        "    return epoch_loss, epoch_acc\n",
        "\n",
        "\n",
        "def evaluate(model, loader):\n",
        "    model.eval()\n",
        "    running_loss = 0.0\n",
        "    running_corrects = 0\n",
        "    total = 0\n",
        "    with torch.no_grad():\n",
        "        for inputs, labels in loader:\n",
        "            inputs, labels = inputs.to(device), labels.to(device)\n",
        "            outputs = model(inputs)\n",
        "            loss = criterion(outputs, labels)\n",
        "            running_loss += loss.item() * inputs.size(0)\n",
        "            running_corrects += (outputs.argmax(1) == labels).sum().item()\n",
        "            total += labels.size(0)\n",
        "\n",
        "    epoch_loss = running_loss / total\n",
        "    epoch_acc = running_corrects / total\n",
        "    return epoch_loss, epoch_acc"
      ]
    },
    {
      "cell_type": "markdown",
      "id": "FSnZHZ4Ww3nO",
      "metadata": {
        "id": "FSnZHZ4Ww3nO"
      },
      "source": [
        "##### Full Training Procedure per Fold & Optimizer:"
      ]
    },
    {
      "cell_type": "code",
      "execution_count": 11,
      "id": "GmJtfDkrwgdE",
      "metadata": {
        "id": "GmJtfDkrwgdE"
      },
      "outputs": [],
      "source": [
        "def train_model_for_optimizer(optimizer_name, fold_index, num_epochs=10, batch_size=64):\n",
        "    train_loader, val_loader, test_loader = get_dataloaders_for_fold(fold_index, batch_size=batch_size)\n",
        "\n",
        "    model = FeedforwardNN().to(device)\n",
        "\n",
        "    if optimizer_name == 'adam':\n",
        "        optimizer = optim.Adam(model.parameters())\n",
        "    elif optimizer_name == 'rmsprop':\n",
        "        optimizer = optim.RMSprop(model.parameters())\n",
        "    elif optimizer_name == 'adamw':\n",
        "        optimizer = optim.AdamW(model.parameters())\n",
        "    else:\n",
        "        raise ValueError(f\"Unsupported optimizer: {optimizer_name}\")\n",
        "\n",
        "    train_losses, val_losses = [], []\n",
        "    train_accs, val_accs = [], []\n",
        "    start_time = time.time()\n",
        "\n",
        "    for epoch in range(num_epochs):\n",
        "        train_loss, train_acc = train_one_epoch(model, train_loader, optimizer)\n",
        "        val_loss, val_acc = evaluate(model, val_loader)\n",
        "\n",
        "        train_losses.append(train_loss)\n",
        "        val_losses.append(val_loss)\n",
        "        train_accs.append(train_acc)\n",
        "        val_accs.append(val_acc)\n",
        "\n",
        "        print(f\"[{optimizer_name.upper()} | Fold {fold_index+1} | Epoch {epoch+1}] \"\n",
        "              f\"Train Loss: {train_loss:.4f}, Train Acc: {train_acc:.4f} | \"\n",
        "              f\"Val Loss: {val_loss:.4f}, Val Acc: {val_acc:.4f}\")\n",
        "\n",
        "    total_time = time.time() - start_time\n",
        "    return model, train_losses, val_losses, train_accs, val_accs, total_time, test_loader"
      ]
    },
    {
      "cell_type": "code",
      "execution_count": 12,
      "id": "D5j7o0ZNw-c3",
      "metadata": {
        "colab": {
          "base_uri": "https://localhost:8080/"
        },
        "id": "D5j7o0ZNw-c3",
        "outputId": "21353ed1-2f8d-4ad4-e383-6c75246ef827"
      },
      "outputs": [
        {
          "output_type": "stream",
          "name": "stdout",
          "text": [
            "[ADAM | Fold 1 | Epoch 1] Train Loss: 0.5435, Train Acc: 0.8316 | Val Loss: 0.3285, Val Acc: 0.8972\n",
            "[ADAM | Fold 1 | Epoch 2] Train Loss: 0.2713, Train Acc: 0.9169 | Val Loss: 0.2478, Val Acc: 0.9213\n",
            "[ADAM | Fold 1 | Epoch 3] Train Loss: 0.1990, Train Acc: 0.9384 | Val Loss: 0.2204, Val Acc: 0.9325\n",
            "[ADAM | Fold 1 | Epoch 4] Train Loss: 0.1549, Train Acc: 0.9517 | Val Loss: 0.1991, Val Acc: 0.9417\n",
            "[ADAM | Fold 1 | Epoch 5] Train Loss: 0.1304, Train Acc: 0.9586 | Val Loss: 0.1799, Val Acc: 0.9453\n",
            "[ADAM | Fold 1 | Epoch 6] Train Loss: 0.1055, Train Acc: 0.9670 | Val Loss: 0.1780, Val Acc: 0.9497\n",
            "[ADAM | Fold 1 | Epoch 7] Train Loss: 0.0905, Train Acc: 0.9711 | Val Loss: 0.1975, Val Acc: 0.9433\n",
            "[ADAM | Fold 1 | Epoch 8] Train Loss: 0.0765, Train Acc: 0.9761 | Val Loss: 0.1934, Val Acc: 0.9483\n",
            "[ADAM | Fold 1 | Epoch 9] Train Loss: 0.0651, Train Acc: 0.9790 | Val Loss: 0.1999, Val Acc: 0.9474\n",
            "[ADAM | Fold 1 | Epoch 10] Train Loss: 0.0586, Train Acc: 0.9801 | Val Loss: 0.2456, Val Acc: 0.9387\n"
          ]
        }
      ],
      "source": [
        "model, train_losses, val_losses, train_accs, val_accs, total_time, test_loader = train_model_for_optimizer(\n",
        "    optimizer_name='adam',\n",
        "    fold_index=0,\n",
        "    num_epochs=10,  # You can adjust this\n",
        "    batch_size=64\n",
        ")"
      ]
    },
    {
      "cell_type": "markdown",
      "id": "qKVHMwnVypvR",
      "metadata": {
        "id": "qKVHMwnVypvR"
      },
      "source": [
        "#### Step 5: Cross-Validation Loop for All Optimizers:"
      ]
    },
    {
      "cell_type": "markdown",
      "id": "pl5fnkIzyzz0",
      "metadata": {
        "id": "pl5fnkIzyzz0"
      },
      "source": [
        "##### Define Optimizer Evaluation Function:"
      ]
    },
    {
      "cell_type": "code",
      "execution_count": 13,
      "id": "SsEsF8bexSzU",
      "metadata": {
        "id": "SsEsF8bexSzU"
      },
      "outputs": [],
      "source": [
        "def run_cross_validation(optimizer_name, num_epochs=10, batch_size=64):\n",
        "    print(f\"\\n=== Running 5-Fold Cross-Validation with {optimizer_name.upper()} ===\")\n",
        "    all_train_acc = []\n",
        "    all_val_acc = []\n",
        "    all_train_loss = []\n",
        "    all_val_loss = []\n",
        "    total_training_time = 0\n",
        "\n",
        "    for fold_index in range(k_folds):\n",
        "        print(f\"\\n---- Fold {fold_index + 1} ----\")\n",
        "        model, train_losses, val_losses, train_accs, val_accs, train_time, _ = train_model_for_optimizer(\n",
        "            optimizer_name, fold_index, num_epochs, batch_size\n",
        "        )\n",
        "        all_train_acc.append(train_accs[-1])\n",
        "        all_val_acc.append(val_accs[-1])\n",
        "        all_train_loss.append(train_losses[-1])\n",
        "        all_val_loss.append(val_losses[-1])\n",
        "        total_training_time += train_time\n",
        "\n",
        "    # Average metrics over all folds\n",
        "    avg_train_acc = np.mean(all_train_acc)\n",
        "    avg_val_acc = np.mean(all_val_acc)\n",
        "    avg_train_loss = np.mean(all_train_loss)\n",
        "    avg_val_loss = np.mean(all_val_loss)\n",
        "\n",
        "    print(f\"\\n=== {optimizer_name.upper()} Results (5-Fold Avg) ===\")\n",
        "    print(f\"Train Accuracy: {avg_train_acc:.4f}\")\n",
        "    print(f\"Validation Accuracy: {avg_val_acc:.4f}\")\n",
        "    print(f\"Train Loss: {avg_train_loss:.4f}\")\n",
        "    print(f\"Validation Loss: {avg_val_loss:.4f}\")\n",
        "    print(f\"Total Training Time: {total_training_time:.2f} seconds\")\n",
        "\n",
        "    return {\n",
        "        'optimizer': optimizer_name,\n",
        "        'train_acc': avg_train_acc,\n",
        "        'val_acc': avg_val_acc,\n",
        "        'train_loss': avg_train_loss,\n",
        "        'val_loss': avg_val_loss,\n",
        "        'time': total_training_time\n",
        "    }"
      ]
    },
    {
      "cell_type": "markdown",
      "id": "6mcFpgzuzRu0",
      "metadata": {
        "id": "6mcFpgzuzRu0"
      },
      "source": [
        "##### Running All 3 Optimizers:"
      ]
    },
    {
      "cell_type": "code",
      "execution_count": 14,
      "id": "66PcoWV1zFxu",
      "metadata": {
        "colab": {
          "base_uri": "https://localhost:8080/"
        },
        "id": "66PcoWV1zFxu",
        "outputId": "6eff6a0e-d817-4149-b761-23259b8a5cad"
      },
      "outputs": [
        {
          "output_type": "stream",
          "name": "stdout",
          "text": [
            "\n",
            "=== Running 5-Fold Cross-Validation with ADAM ===\n",
            "\n",
            "---- Fold 1 ----\n",
            "[ADAM | Fold 1 | Epoch 1] Train Loss: 0.5546, Train Acc: 0.8278 | Val Loss: 0.3301, Val Acc: 0.8967\n",
            "[ADAM | Fold 1 | Epoch 2] Train Loss: 0.2689, Train Acc: 0.9164 | Val Loss: 0.2493, Val Acc: 0.9186\n",
            "[ADAM | Fold 1 | Epoch 3] Train Loss: 0.2016, Train Acc: 0.9377 | Val Loss: 0.2112, Val Acc: 0.9308\n",
            "[ADAM | Fold 1 | Epoch 4] Train Loss: 0.1589, Train Acc: 0.9510 | Val Loss: 0.1906, Val Acc: 0.9433\n",
            "[ADAM | Fold 1 | Epoch 5] Train Loss: 0.1296, Train Acc: 0.9595 | Val Loss: 0.1925, Val Acc: 0.9421\n",
            "[ADAM | Fold 1 | Epoch 6] Train Loss: 0.1093, Train Acc: 0.9654 | Val Loss: 0.1814, Val Acc: 0.9477\n",
            "[ADAM | Fold 1 | Epoch 7] Train Loss: 0.0922, Train Acc: 0.9700 | Val Loss: 0.1946, Val Acc: 0.9441\n",
            "[ADAM | Fold 1 | Epoch 8] Train Loss: 0.0785, Train Acc: 0.9750 | Val Loss: 0.2130, Val Acc: 0.9395\n",
            "[ADAM | Fold 1 | Epoch 9] Train Loss: 0.0695, Train Acc: 0.9771 | Val Loss: 0.2057, Val Acc: 0.9466\n",
            "[ADAM | Fold 1 | Epoch 10] Train Loss: 0.0610, Train Acc: 0.9795 | Val Loss: 0.2071, Val Acc: 0.9496\n",
            "\n",
            "---- Fold 2 ----\n",
            "[ADAM | Fold 2 | Epoch 1] Train Loss: 0.5439, Train Acc: 0.8323 | Val Loss: 0.3491, Val Acc: 0.8907\n",
            "[ADAM | Fold 2 | Epoch 2] Train Loss: 0.2684, Train Acc: 0.9178 | Val Loss: 0.2548, Val Acc: 0.9200\n",
            "[ADAM | Fold 2 | Epoch 3] Train Loss: 0.1995, Train Acc: 0.9387 | Val Loss: 0.2316, Val Acc: 0.9322\n",
            "[ADAM | Fold 2 | Epoch 4] Train Loss: 0.1579, Train Acc: 0.9509 | Val Loss: 0.2151, Val Acc: 0.9379\n",
            "[ADAM | Fold 2 | Epoch 5] Train Loss: 0.1319, Train Acc: 0.9594 | Val Loss: 0.2175, Val Acc: 0.9370\n",
            "[ADAM | Fold 2 | Epoch 6] Train Loss: 0.1076, Train Acc: 0.9661 | Val Loss: 0.2107, Val Acc: 0.9395\n",
            "[ADAM | Fold 2 | Epoch 7] Train Loss: 0.0927, Train Acc: 0.9694 | Val Loss: 0.1961, Val Acc: 0.9473\n",
            "[ADAM | Fold 2 | Epoch 8] Train Loss: 0.0757, Train Acc: 0.9754 | Val Loss: 0.2146, Val Acc: 0.9445\n",
            "[ADAM | Fold 2 | Epoch 9] Train Loss: 0.0658, Train Acc: 0.9785 | Val Loss: 0.2261, Val Acc: 0.9412\n",
            "[ADAM | Fold 2 | Epoch 10] Train Loss: 0.0585, Train Acc: 0.9807 | Val Loss: 0.2291, Val Acc: 0.9458\n",
            "\n",
            "---- Fold 3 ----\n",
            "[ADAM | Fold 3 | Epoch 1] Train Loss: 0.5405, Train Acc: 0.8340 | Val Loss: 0.3491, Val Acc: 0.8928\n",
            "[ADAM | Fold 3 | Epoch 2] Train Loss: 0.2764, Train Acc: 0.9141 | Val Loss: 0.2755, Val Acc: 0.9169\n",
            "[ADAM | Fold 3 | Epoch 3] Train Loss: 0.2058, Train Acc: 0.9370 | Val Loss: 0.2300, Val Acc: 0.9330\n",
            "[ADAM | Fold 3 | Epoch 4] Train Loss: 0.1632, Train Acc: 0.9499 | Val Loss: 0.2104, Val Acc: 0.9377\n",
            "[ADAM | Fold 3 | Epoch 5] Train Loss: 0.1346, Train Acc: 0.9571 | Val Loss: 0.2017, Val Acc: 0.9425\n",
            "[ADAM | Fold 3 | Epoch 6] Train Loss: 0.1095, Train Acc: 0.9654 | Val Loss: 0.2041, Val Acc: 0.9434\n",
            "[ADAM | Fold 3 | Epoch 7] Train Loss: 0.0935, Train Acc: 0.9705 | Val Loss: 0.1991, Val Acc: 0.9449\n",
            "[ADAM | Fold 3 | Epoch 8] Train Loss: 0.0807, Train Acc: 0.9749 | Val Loss: 0.2354, Val Acc: 0.9413\n",
            "[ADAM | Fold 3 | Epoch 9] Train Loss: 0.0708, Train Acc: 0.9769 | Val Loss: 0.2281, Val Acc: 0.9442\n",
            "[ADAM | Fold 3 | Epoch 10] Train Loss: 0.0625, Train Acc: 0.9797 | Val Loss: 0.2201, Val Acc: 0.9467\n",
            "\n",
            "---- Fold 4 ----\n",
            "[ADAM | Fold 4 | Epoch 1] Train Loss: 0.5534, Train Acc: 0.8294 | Val Loss: 0.3507, Val Acc: 0.8920\n",
            "[ADAM | Fold 4 | Epoch 2] Train Loss: 0.2778, Train Acc: 0.9144 | Val Loss: 0.2613, Val Acc: 0.9211\n",
            "[ADAM | Fold 4 | Epoch 3] Train Loss: 0.2005, Train Acc: 0.9392 | Val Loss: 0.2416, Val Acc: 0.9244\n",
            "[ADAM | Fold 4 | Epoch 4] Train Loss: 0.1602, Train Acc: 0.9507 | Val Loss: 0.2177, Val Acc: 0.9356\n",
            "[ADAM | Fold 4 | Epoch 5] Train Loss: 0.1309, Train Acc: 0.9594 | Val Loss: 0.2160, Val Acc: 0.9383\n",
            "[ADAM | Fold 4 | Epoch 6] Train Loss: 0.1090, Train Acc: 0.9658 | Val Loss: 0.2042, Val Acc: 0.9423\n",
            "[ADAM | Fold 4 | Epoch 7] Train Loss: 0.0940, Train Acc: 0.9698 | Val Loss: 0.2099, Val Acc: 0.9415\n",
            "[ADAM | Fold 4 | Epoch 8] Train Loss: 0.0814, Train Acc: 0.9748 | Val Loss: 0.2288, Val Acc: 0.9399\n",
            "[ADAM | Fold 4 | Epoch 9] Train Loss: 0.0729, Train Acc: 0.9764 | Val Loss: 0.2089, Val Acc: 0.9451\n",
            "[ADAM | Fold 4 | Epoch 10] Train Loss: 0.0598, Train Acc: 0.9804 | Val Loss: 0.2327, Val Acc: 0.9395\n",
            "\n",
            "---- Fold 5 ----\n",
            "[ADAM | Fold 5 | Epoch 1] Train Loss: 0.5678, Train Acc: 0.8243 | Val Loss: 0.3470, Val Acc: 0.8938\n",
            "[ADAM | Fold 5 | Epoch 2] Train Loss: 0.2845, Train Acc: 0.9124 | Val Loss: 0.2804, Val Acc: 0.9179\n",
            "[ADAM | Fold 5 | Epoch 3] Train Loss: 0.2057, Train Acc: 0.9380 | Val Loss: 0.2292, Val Acc: 0.9317\n",
            "[ADAM | Fold 5 | Epoch 4] Train Loss: 0.1674, Train Acc: 0.9489 | Val Loss: 0.2028, Val Acc: 0.9388\n",
            "[ADAM | Fold 5 | Epoch 5] Train Loss: 0.1343, Train Acc: 0.9585 | Val Loss: 0.2020, Val Acc: 0.9417\n",
            "[ADAM | Fold 5 | Epoch 6] Train Loss: 0.1143, Train Acc: 0.9643 | Val Loss: 0.2064, Val Acc: 0.9406\n",
            "[ADAM | Fold 5 | Epoch 7] Train Loss: 0.0955, Train Acc: 0.9688 | Val Loss: 0.2050, Val Acc: 0.9434\n",
            "[ADAM | Fold 5 | Epoch 8] Train Loss: 0.0842, Train Acc: 0.9728 | Val Loss: 0.1971, Val Acc: 0.9469\n",
            "[ADAM | Fold 5 | Epoch 9] Train Loss: 0.0713, Train Acc: 0.9770 | Val Loss: 0.2138, Val Acc: 0.9460\n",
            "[ADAM | Fold 5 | Epoch 10] Train Loss: 0.0627, Train Acc: 0.9794 | Val Loss: 0.2094, Val Acc: 0.9471\n",
            "\n",
            "=== ADAM Results (5-Fold Avg) ===\n",
            "Train Accuracy: 0.9799\n",
            "Validation Accuracy: 0.9457\n",
            "Train Loss: 0.0609\n",
            "Validation Loss: 0.2197\n",
            "Total Training Time: 616.28 seconds\n",
            "\n",
            "=== Running 5-Fold Cross-Validation with RMSPROP ===\n",
            "\n",
            "---- Fold 1 ----\n",
            "[RMSPROP | Fold 1 | Epoch 1] Train Loss: 1.1617, Train Acc: 0.7612 | Val Loss: 0.5689, Val Acc: 0.8218\n",
            "[RMSPROP | Fold 1 | Epoch 2] Train Loss: 0.5104, Train Acc: 0.8496 | Val Loss: 0.4312, Val Acc: 0.8767\n",
            "[RMSPROP | Fold 1 | Epoch 3] Train Loss: 0.4474, Train Acc: 0.8709 | Val Loss: 0.5818, Val Acc: 0.8393\n",
            "[RMSPROP | Fold 1 | Epoch 4] Train Loss: 0.4109, Train Acc: 0.8806 | Val Loss: 0.4188, Val Acc: 0.8900\n",
            "[RMSPROP | Fold 1 | Epoch 5] Train Loss: 0.3790, Train Acc: 0.8916 | Val Loss: 0.4358, Val Acc: 0.8908\n",
            "[RMSPROP | Fold 1 | Epoch 6] Train Loss: 0.3770, Train Acc: 0.8951 | Val Loss: 0.4165, Val Acc: 0.8870\n",
            "[RMSPROP | Fold 1 | Epoch 7] Train Loss: 0.3562, Train Acc: 0.9007 | Val Loss: 0.5066, Val Acc: 0.8808\n",
            "[RMSPROP | Fold 1 | Epoch 8] Train Loss: 0.3595, Train Acc: 0.9008 | Val Loss: 0.4485, Val Acc: 0.8968\n",
            "[RMSPROP | Fold 1 | Epoch 9] Train Loss: 0.3478, Train Acc: 0.9044 | Val Loss: 0.4676, Val Acc: 0.8919\n",
            "[RMSPROP | Fold 1 | Epoch 10] Train Loss: 0.3380, Train Acc: 0.9094 | Val Loss: 0.4646, Val Acc: 0.8941\n",
            "\n",
            "---- Fold 2 ----\n",
            "[RMSPROP | Fold 2 | Epoch 1] Train Loss: 1.2174, Train Acc: 0.7454 | Val Loss: 0.4839, Val Acc: 0.8534\n",
            "[RMSPROP | Fold 2 | Epoch 2] Train Loss: 0.5111, Train Acc: 0.8492 | Val Loss: 0.4521, Val Acc: 0.8611\n",
            "[RMSPROP | Fold 2 | Epoch 3] Train Loss: 0.4488, Train Acc: 0.8704 | Val Loss: 0.5135, Val Acc: 0.8523\n",
            "[RMSPROP | Fold 2 | Epoch 4] Train Loss: 0.4143, Train Acc: 0.8845 | Val Loss: 0.4058, Val Acc: 0.8869\n",
            "[RMSPROP | Fold 2 | Epoch 5] Train Loss: 0.3815, Train Acc: 0.8928 | Val Loss: 0.4134, Val Acc: 0.8934\n",
            "[RMSPROP | Fold 2 | Epoch 6] Train Loss: 0.3573, Train Acc: 0.9012 | Val Loss: 0.4288, Val Acc: 0.8962\n",
            "[RMSPROP | Fold 2 | Epoch 7] Train Loss: 0.3519, Train Acc: 0.9053 | Val Loss: 0.4235, Val Acc: 0.8967\n",
            "[RMSPROP | Fold 2 | Epoch 8] Train Loss: 0.3418, Train Acc: 0.9088 | Val Loss: 0.4197, Val Acc: 0.8939\n",
            "[RMSPROP | Fold 2 | Epoch 9] Train Loss: 0.3354, Train Acc: 0.9096 | Val Loss: 0.4485, Val Acc: 0.9021\n",
            "[RMSPROP | Fold 2 | Epoch 10] Train Loss: 0.3344, Train Acc: 0.9127 | Val Loss: 0.4047, Val Acc: 0.9032\n",
            "\n",
            "---- Fold 3 ----\n",
            "[RMSPROP | Fold 3 | Epoch 1] Train Loss: 1.3813, Train Acc: 0.7527 | Val Loss: 0.4743, Val Acc: 0.8588\n",
            "[RMSPROP | Fold 3 | Epoch 2] Train Loss: 0.4965, Train Acc: 0.8526 | Val Loss: 0.4431, Val Acc: 0.8724\n",
            "[RMSPROP | Fold 3 | Epoch 3] Train Loss: 0.4439, Train Acc: 0.8728 | Val Loss: 0.3962, Val Acc: 0.8916\n",
            "[RMSPROP | Fold 3 | Epoch 4] Train Loss: 0.4041, Train Acc: 0.8842 | Val Loss: 0.4015, Val Acc: 0.8881\n",
            "[RMSPROP | Fold 3 | Epoch 5] Train Loss: 0.3859, Train Acc: 0.8915 | Val Loss: 0.5051, Val Acc: 0.8662\n",
            "[RMSPROP | Fold 3 | Epoch 6] Train Loss: 0.3668, Train Acc: 0.8984 | Val Loss: 0.4510, Val Acc: 0.8967\n",
            "[RMSPROP | Fold 3 | Epoch 7] Train Loss: 0.3570, Train Acc: 0.9028 | Val Loss: 0.4086, Val Acc: 0.8942\n",
            "[RMSPROP | Fold 3 | Epoch 8] Train Loss: 0.3482, Train Acc: 0.9058 | Val Loss: 0.4444, Val Acc: 0.8936\n",
            "[RMSPROP | Fold 3 | Epoch 9] Train Loss: 0.3400, Train Acc: 0.9103 | Val Loss: 0.4585, Val Acc: 0.9002\n",
            "[RMSPROP | Fold 3 | Epoch 10] Train Loss: 0.3317, Train Acc: 0.9113 | Val Loss: 0.4759, Val Acc: 0.8932\n",
            "\n",
            "---- Fold 4 ----\n",
            "[RMSPROP | Fold 4 | Epoch 1] Train Loss: 1.5624, Train Acc: 0.7376 | Val Loss: 0.5400, Val Acc: 0.8373\n",
            "[RMSPROP | Fold 4 | Epoch 2] Train Loss: 0.4655, Train Acc: 0.8632 | Val Loss: 0.5316, Val Acc: 0.8528\n",
            "[RMSPROP | Fold 4 | Epoch 3] Train Loss: 0.4059, Train Acc: 0.8858 | Val Loss: 0.4158, Val Acc: 0.8848\n",
            "[RMSPROP | Fold 4 | Epoch 4] Train Loss: 0.3731, Train Acc: 0.8953 | Val Loss: 0.4648, Val Acc: 0.8862\n",
            "[RMSPROP | Fold 4 | Epoch 5] Train Loss: 0.3553, Train Acc: 0.9019 | Val Loss: 0.4167, Val Acc: 0.8938\n",
            "[RMSPROP | Fold 4 | Epoch 6] Train Loss: 0.3496, Train Acc: 0.9058 | Val Loss: 0.4025, Val Acc: 0.8932\n",
            "[RMSPROP | Fold 4 | Epoch 7] Train Loss: 0.3269, Train Acc: 0.9107 | Val Loss: 0.4276, Val Acc: 0.8947\n",
            "[RMSPROP | Fold 4 | Epoch 8] Train Loss: 0.3244, Train Acc: 0.9131 | Val Loss: 0.4174, Val Acc: 0.9025\n",
            "[RMSPROP | Fold 4 | Epoch 9] Train Loss: 0.3141, Train Acc: 0.9174 | Val Loss: 0.4720, Val Acc: 0.8888\n",
            "[RMSPROP | Fold 4 | Epoch 10] Train Loss: 0.3079, Train Acc: 0.9200 | Val Loss: 0.4649, Val Acc: 0.8997\n",
            "\n",
            "---- Fold 5 ----\n",
            "[RMSPROP | Fold 5 | Epoch 1] Train Loss: 1.0915, Train Acc: 0.7732 | Val Loss: 0.4830, Val Acc: 0.8551\n",
            "[RMSPROP | Fold 5 | Epoch 2] Train Loss: 0.4839, Train Acc: 0.8584 | Val Loss: 0.5043, Val Acc: 0.8621\n",
            "[RMSPROP | Fold 5 | Epoch 3] Train Loss: 0.4270, Train Acc: 0.8775 | Val Loss: 0.4979, Val Acc: 0.8588\n",
            "[RMSPROP | Fold 5 | Epoch 4] Train Loss: 0.3990, Train Acc: 0.8895 | Val Loss: 0.4226, Val Acc: 0.8896\n",
            "[RMSPROP | Fold 5 | Epoch 5] Train Loss: 0.3760, Train Acc: 0.8965 | Val Loss: 0.4789, Val Acc: 0.8769\n",
            "[RMSPROP | Fold 5 | Epoch 6] Train Loss: 0.3543, Train Acc: 0.9026 | Val Loss: 0.4864, Val Acc: 0.8897\n",
            "[RMSPROP | Fold 5 | Epoch 7] Train Loss: 0.3499, Train Acc: 0.9063 | Val Loss: 0.4623, Val Acc: 0.8979\n",
            "[RMSPROP | Fold 5 | Epoch 8] Train Loss: 0.3352, Train Acc: 0.9103 | Val Loss: 0.4897, Val Acc: 0.8892\n",
            "[RMSPROP | Fold 5 | Epoch 9] Train Loss: 0.3291, Train Acc: 0.9125 | Val Loss: 0.4885, Val Acc: 0.8970\n",
            "[RMSPROP | Fold 5 | Epoch 10] Train Loss: 0.3242, Train Acc: 0.9148 | Val Loss: 0.4758, Val Acc: 0.8985\n",
            "\n",
            "=== RMSPROP Results (5-Fold Avg) ===\n",
            "Train Accuracy: 0.9137\n",
            "Validation Accuracy: 0.8977\n",
            "Train Loss: 0.3272\n",
            "Validation Loss: 0.4572\n",
            "Total Training Time: 616.76 seconds\n",
            "\n",
            "=== Running 5-Fold Cross-Validation with ADAMW ===\n",
            "\n",
            "---- Fold 1 ----\n",
            "[ADAMW | Fold 1 | Epoch 1] Train Loss: 0.5528, Train Acc: 0.8301 | Val Loss: 0.3306, Val Acc: 0.8956\n",
            "[ADAMW | Fold 1 | Epoch 2] Train Loss: 0.2738, Train Acc: 0.9161 | Val Loss: 0.2710, Val Acc: 0.9150\n",
            "[ADAMW | Fold 1 | Epoch 3] Train Loss: 0.1995, Train Acc: 0.9384 | Val Loss: 0.2119, Val Acc: 0.9352\n",
            "[ADAMW | Fold 1 | Epoch 4] Train Loss: 0.1575, Train Acc: 0.9506 | Val Loss: 0.1930, Val Acc: 0.9430\n",
            "[ADAMW | Fold 1 | Epoch 5] Train Loss: 0.1306, Train Acc: 0.9590 | Val Loss: 0.1881, Val Acc: 0.9423\n",
            "[ADAMW | Fold 1 | Epoch 6] Train Loss: 0.1077, Train Acc: 0.9660 | Val Loss: 0.1838, Val Acc: 0.9462\n",
            "[ADAMW | Fold 1 | Epoch 7] Train Loss: 0.0901, Train Acc: 0.9712 | Val Loss: 0.1910, Val Acc: 0.9452\n",
            "[ADAMW | Fold 1 | Epoch 8] Train Loss: 0.0779, Train Acc: 0.9742 | Val Loss: 0.1949, Val Acc: 0.9455\n",
            "[ADAMW | Fold 1 | Epoch 9] Train Loss: 0.0670, Train Acc: 0.9783 | Val Loss: 0.2015, Val Acc: 0.9484\n",
            "[ADAMW | Fold 1 | Epoch 10] Train Loss: 0.0600, Train Acc: 0.9803 | Val Loss: 0.1925, Val Acc: 0.9527\n",
            "\n",
            "---- Fold 2 ----\n",
            "[ADAMW | Fold 2 | Epoch 1] Train Loss: 0.5580, Train Acc: 0.8276 | Val Loss: 0.3704, Val Acc: 0.8839\n",
            "[ADAMW | Fold 2 | Epoch 2] Train Loss: 0.2796, Train Acc: 0.9135 | Val Loss: 0.2787, Val Acc: 0.9151\n",
            "[ADAMW | Fold 2 | Epoch 3] Train Loss: 0.2035, Train Acc: 0.9381 | Val Loss: 0.2224, Val Acc: 0.9337\n",
            "[ADAMW | Fold 2 | Epoch 4] Train Loss: 0.1638, Train Acc: 0.9495 | Val Loss: 0.2137, Val Acc: 0.9353\n",
            "[ADAMW | Fold 2 | Epoch 5] Train Loss: 0.1331, Train Acc: 0.9586 | Val Loss: 0.2093, Val Acc: 0.9386\n",
            "[ADAMW | Fold 2 | Epoch 6] Train Loss: 0.1093, Train Acc: 0.9656 | Val Loss: 0.2104, Val Acc: 0.9393\n",
            "[ADAMW | Fold 2 | Epoch 7] Train Loss: 0.0909, Train Acc: 0.9709 | Val Loss: 0.2031, Val Acc: 0.9453\n",
            "[ADAMW | Fold 2 | Epoch 8] Train Loss: 0.0784, Train Acc: 0.9755 | Val Loss: 0.1973, Val Acc: 0.9503\n",
            "[ADAMW | Fold 2 | Epoch 9] Train Loss: 0.0681, Train Acc: 0.9776 | Val Loss: 0.2057, Val Acc: 0.9495\n",
            "[ADAMW | Fold 2 | Epoch 10] Train Loss: 0.0607, Train Acc: 0.9800 | Val Loss: 0.2109, Val Acc: 0.9483\n",
            "\n",
            "---- Fold 3 ----\n",
            "[ADAMW | Fold 3 | Epoch 1] Train Loss: 0.5522, Train Acc: 0.8277 | Val Loss: 0.3390, Val Acc: 0.8994\n",
            "[ADAMW | Fold 3 | Epoch 2] Train Loss: 0.2769, Train Acc: 0.9143 | Val Loss: 0.2679, Val Acc: 0.9181\n",
            "[ADAMW | Fold 3 | Epoch 3] Train Loss: 0.2048, Train Acc: 0.9380 | Val Loss: 0.2323, Val Acc: 0.9257\n",
            "[ADAMW | Fold 3 | Epoch 4] Train Loss: 0.1628, Train Acc: 0.9493 | Val Loss: 0.2073, Val Acc: 0.9384\n",
            "[ADAMW | Fold 3 | Epoch 5] Train Loss: 0.1337, Train Acc: 0.9583 | Val Loss: 0.2117, Val Acc: 0.9355\n",
            "[ADAMW | Fold 3 | Epoch 6] Train Loss: 0.1117, Train Acc: 0.9650 | Val Loss: 0.2001, Val Acc: 0.9396\n",
            "[ADAMW | Fold 3 | Epoch 7] Train Loss: 0.0927, Train Acc: 0.9707 | Val Loss: 0.1917, Val Acc: 0.9469\n",
            "[ADAMW | Fold 3 | Epoch 8] Train Loss: 0.0823, Train Acc: 0.9736 | Val Loss: 0.2177, Val Acc: 0.9413\n",
            "[ADAMW | Fold 3 | Epoch 9] Train Loss: 0.0722, Train Acc: 0.9770 | Val Loss: 0.2104, Val Acc: 0.9432\n",
            "[ADAMW | Fold 3 | Epoch 10] Train Loss: 0.0677, Train Acc: 0.9777 | Val Loss: 0.2212, Val Acc: 0.9460\n",
            "\n",
            "---- Fold 4 ----\n",
            "[ADAMW | Fold 4 | Epoch 1] Train Loss: 0.5336, Train Acc: 0.8334 | Val Loss: 0.3245, Val Acc: 0.9016\n",
            "[ADAMW | Fold 4 | Epoch 2] Train Loss: 0.2669, Train Acc: 0.9189 | Val Loss: 0.2698, Val Acc: 0.9193\n",
            "[ADAMW | Fold 4 | Epoch 3] Train Loss: 0.2001, Train Acc: 0.9384 | Val Loss: 0.2188, Val Acc: 0.9339\n",
            "[ADAMW | Fold 4 | Epoch 4] Train Loss: 0.1579, Train Acc: 0.9509 | Val Loss: 0.1983, Val Acc: 0.9407\n",
            "[ADAMW | Fold 4 | Epoch 5] Train Loss: 0.1290, Train Acc: 0.9601 | Val Loss: 0.1982, Val Acc: 0.9402\n",
            "[ADAMW | Fold 4 | Epoch 6] Train Loss: 0.1077, Train Acc: 0.9662 | Val Loss: 0.2076, Val Acc: 0.9397\n",
            "[ADAMW | Fold 4 | Epoch 7] Train Loss: 0.0918, Train Acc: 0.9708 | Val Loss: 0.2095, Val Acc: 0.9363\n",
            "[ADAMW | Fold 4 | Epoch 8] Train Loss: 0.0774, Train Acc: 0.9755 | Val Loss: 0.2110, Val Acc: 0.9392\n",
            "[ADAMW | Fold 4 | Epoch 9] Train Loss: 0.0710, Train Acc: 0.9769 | Val Loss: 0.2035, Val Acc: 0.9429\n",
            "[ADAMW | Fold 4 | Epoch 10] Train Loss: 0.0598, Train Acc: 0.9809 | Val Loss: 0.2393, Val Acc: 0.9360\n",
            "\n",
            "---- Fold 5 ----\n",
            "[ADAMW | Fold 5 | Epoch 1] Train Loss: 0.5570, Train Acc: 0.8285 | Val Loss: 0.4128, Val Acc: 0.8682\n",
            "[ADAMW | Fold 5 | Epoch 2] Train Loss: 0.2796, Train Acc: 0.9141 | Val Loss: 0.2904, Val Acc: 0.9073\n",
            "[ADAMW | Fold 5 | Epoch 3] Train Loss: 0.2057, Train Acc: 0.9364 | Val Loss: 0.2555, Val Acc: 0.9203\n",
            "[ADAMW | Fold 5 | Epoch 4] Train Loss: 0.1654, Train Acc: 0.9485 | Val Loss: 0.2393, Val Acc: 0.9273\n",
            "[ADAMW | Fold 5 | Epoch 5] Train Loss: 0.1367, Train Acc: 0.9579 | Val Loss: 0.2136, Val Acc: 0.9368\n",
            "[ADAMW | Fold 5 | Epoch 6] Train Loss: 0.1118, Train Acc: 0.9649 | Val Loss: 0.2228, Val Acc: 0.9343\n",
            "[ADAMW | Fold 5 | Epoch 7] Train Loss: 0.0960, Train Acc: 0.9695 | Val Loss: 0.2140, Val Acc: 0.9413\n",
            "[ADAMW | Fold 5 | Epoch 8] Train Loss: 0.0837, Train Acc: 0.9730 | Val Loss: 0.2153, Val Acc: 0.9410\n",
            "[ADAMW | Fold 5 | Epoch 9] Train Loss: 0.0712, Train Acc: 0.9773 | Val Loss: 0.2338, Val Acc: 0.9403\n",
            "[ADAMW | Fold 5 | Epoch 10] Train Loss: 0.0611, Train Acc: 0.9809 | Val Loss: 0.2261, Val Acc: 0.9437\n",
            "\n",
            "=== ADAMW Results (5-Fold Avg) ===\n",
            "Train Accuracy: 0.9800\n",
            "Validation Accuracy: 0.9454\n",
            "Train Loss: 0.0619\n",
            "Validation Loss: 0.2180\n",
            "Total Training Time: 614.82 seconds\n"
          ]
        }
      ],
      "source": [
        "results = []\n",
        "for opt in ['adam', 'rmsprop', 'adamw']:\n",
        "    result = run_cross_validation(opt, num_epochs=10, batch_size=64)\n",
        "    results.append(result)"
      ]
    },
    {
      "cell_type": "markdown",
      "id": "Fs7fwnqzOATo",
      "metadata": {
        "id": "Fs7fwnqzOATo"
      },
      "source": [
        "#### Step 6: Visualization & Reporting:"
      ]
    },
    {
      "cell_type": "markdown",
      "id": "2X72Vi-IOH5c",
      "metadata": {
        "id": "2X72Vi-IOH5c"
      },
      "source": [
        "##### Converting to DataFrame:"
      ]
    },
    {
      "cell_type": "code",
      "execution_count": 15,
      "id": "E2od_pvgzqdF",
      "metadata": {
        "colab": {
          "base_uri": "https://localhost:8080/"
        },
        "id": "E2od_pvgzqdF",
        "outputId": "4a61634c-6270-45cb-973c-3a317da1b8a2"
      },
      "outputs": [
        {
          "output_type": "stream",
          "name": "stdout",
          "text": [
            "  optimizer  train_acc   val_acc  train_loss  val_loss        time\n",
            "0      ADAM   0.979942  0.945750    0.060894  0.219690  616.282012\n",
            "1   RMSPROP   0.913658  0.897733    0.327239  0.457175  616.760133\n",
            "2     ADAMW   0.979975  0.945367    0.061874  0.218000  614.824464\n"
          ]
        }
      ],
      "source": [
        "df_results = pd.DataFrame(results)\n",
        "df_results['optimizer'] = df_results['optimizer'].str.upper()\n",
        "print(df_results)"
      ]
    },
    {
      "cell_type": "markdown",
      "id": "AvAofkUUg4lt",
      "metadata": {
        "id": "AvAofkUUg4lt"
      },
      "source": [
        "##### Bar Charts:"
      ]
    },
    {
      "cell_type": "code",
      "execution_count": 16,
      "id": "Mo3i-Z7wONnY",
      "metadata": {
        "colab": {
          "base_uri": "https://localhost:8080/",
          "height": 327
        },
        "id": "Mo3i-Z7wONnY",
        "outputId": "f50b9965-e7b3-4c0a-fde9-1c02e1d20303"
      },
      "outputs": [
        {
          "output_type": "display_data",
          "data": {
            "text/plain": [
              "<Figure size 1800x500 with 3 Axes>"
            ],
            "image/png": "[encoded data removed]"
          },
          "metadata": {}
        }
      ],
      "source": [
        "# Set plotting style\n",
        "plt.style.use(\"ggplot\")\n",
        "fig, axs = plt.subplots(1, 3, figsize=(18, 5))\n",
        "\n",
        "# Accuracy plot\n",
        "axs[0].bar(df_results['optimizer'], df_results['val_acc'], color='teal')\n",
        "axs[0].set_title(\"Validation Accuracy\")\n",
        "axs[0].set_ylabel(\"Accuracy\")\n",
        "axs[0].set_ylim(0.85, 1.0)\n",
        "\n",
        "# Loss plot\n",
        "axs[1].bar(df_results['optimizer'], df_results['val_loss'], color='orange')\n",
        "axs[1].set_title(\"Validation Loss\")\n",
        "axs[1].set_ylabel(\"Loss\")\n",
        "\n",
        "# Time plot\n",
        "axs[2].bar(df_results['optimizer'], df_results['time'], color='slateblue')\n",
        "axs[2].set_title(\"Training Time (s)\")\n",
        "axs[2].set_ylabel(\"Seconds\")\n",
        "\n",
        "plt.suptitle(\"Optimizer Comparison (5-Fold CV)\", fontsize=16)\n",
        "plt.tight_layout(rect=[0, 0.03, 1, 0.95])\n",
        "plt.show()"
      ]
    },
    {
      "cell_type": "code",
      "execution_count": 17,
      "id": "OywJRWb8g7_E",
      "metadata": {
        "id": "OywJRWb8g7_E"
      },
      "outputs": [],
      "source": [
        "df_results.to_csv(\"optimizer_comparison_results.csv\", index=False)"
      ]
    },
    {
      "cell_type": "code",
      "execution_count": 18,
      "id": "3b1ca5c3",
      "metadata": {
        "colab": {
          "base_uri": "https://localhost:8080/"
        },
        "id": "3b1ca5c3",
        "outputId": "e11bc046-9af6-4fa9-9d33-ccd9905d05e5"
      },
      "outputs": [
        {
          "output_type": "stream",
          "name": "stdout",
          "text": [
            "Best configuration found:\n",
            "Optimizer: RMSprop, Learning Rate: 0.001, Batch Size: 64, Avg Accuracy: 0.9423\n"
          ]
        }
      ],
      "source": [
        "\n",
        "from itertools import product\n",
        "\n",
        "# Define search space\n",
        "optimizers = ['Adam', 'RMSprop', 'AdamW']\n",
        "learning_rates = [0.01, 0.001]\n",
        "batch_sizes = [64, 128]\n",
        "\n",
        "results = []\n",
        "\n",
        "def train_and_validate(model, train_loader, val_loader, optimizer, criterion, epochs=5):\n",
        "    model.train()\n",
        "    for epoch in range(epochs):\n",
        "        for inputs, labels in train_loader:\n",
        "            inputs, labels = inputs.to(device), labels.to(device)\n",
        "            optimizer.zero_grad()\n",
        "            outputs = model(inputs)\n",
        "            loss = criterion(outputs, labels)\n",
        "            loss.backward()\n",
        "            optimizer.step()\n",
        "\n",
        "    # Validation\n",
        "    model.eval()\n",
        "    correct, total = 0, 0\n",
        "    with torch.no_grad():\n",
        "        for inputs, labels in val_loader:\n",
        "            inputs, labels = inputs.to(device), labels.to(device)\n",
        "            outputs = model(inputs)\n",
        "            _, predicted = torch.max(outputs, 1)\n",
        "            total += labels.size(0)\n",
        "            correct += (predicted == labels).sum().item()\n",
        "    return correct / total\n",
        "\n",
        "# Perform grid search\n",
        "for opt_name, lr, batch_size in product(optimizers, learning_rates, batch_sizes):\n",
        "    fold_accuracies = []\n",
        "\n",
        "    for fold in range(k_folds):\n",
        "        train_loader, val_loader, _ = get_dataloaders_for_fold(fold, batch_size=batch_size)\n",
        "\n",
        "        model = FeedforwardNN().to(device)\n",
        "        criterion = nn.CrossEntropyLoss()\n",
        "\n",
        "        if opt_name == 'Adam':\n",
        "            optimizer = optim.Adam(model.parameters(), lr=lr)\n",
        "        elif opt_name == 'RMSprop':\n",
        "            optimizer = optim.RMSprop(model.parameters(), lr=lr)\n",
        "        elif opt_name == 'AdamW':\n",
        "            optimizer = optim.AdamW(model.parameters(), lr=lr)\n",
        "\n",
        "        val_accuracy = train_and_validate(model, train_loader, val_loader, optimizer, criterion)\n",
        "        fold_accuracies.append(val_accuracy)\n",
        "\n",
        "    avg_acc = sum(fold_accuracies) / len(fold_accuracies)\n",
        "    results.append((opt_name, lr, batch_size, avg_acc))\n",
        "\n",
        "# Sort and display best config\n",
        "results.sort(key=lambda x: x[-1], reverse=True)\n",
        "print(\"Best configuration found:\")\n",
        "print(f\"Optimizer: {results[0][0]}, Learning Rate: {results[0][1]}, Batch Size: {results[0][2]}, Avg Accuracy: {results[0][3]:.4f}\")\n"
      ]
    }
  ],
  "metadata": {
    "accelerator": "GPU",
    "colab": {
      "gpuType": "T4",
      "provenance": []
    },
    "kernelspec": {
      "display_name": "Python 3 (ipykernel)",
      "language": "python",
      "name": "python3"
    },
    "language_info": {
      "codemirror_mode": {
        "name": "ipython",
        "version": 3
      },
      "file_extension": ".py",
      "mimetype": "text/x-python",
      "name": "python",
      "nbconvert_exporter": "python",
      "pygments_lexer": "ipython3",
      "version": "3.12.7"
    }
  },
  "nbformat": 4,
  "nbformat_minor": 5
}